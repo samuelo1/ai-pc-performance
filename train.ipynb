{
 "cells": [
  {
   "cell_type": "code",
   "execution_count": 2,
   "metadata": {},
   "outputs": [],
   "source": [
    "# Imports & Setup\n",
    "# ---------------\n",
    "import numpy as np\n",
    "import pandas as pd\n",
    "\n",
    "from sklearn.neighbors import KNeighborsClassifier, KNeighborsRegressor\n",
    "from sklearn.model_selection import train_test_split\n",
    "from sklearn.preprocessing import normalize\n",
    "from sklearn.metrics import mean_absolute_error\n",
    "from sklearn.decomposition import PCA\n",
    "\n",
    "pd.set_option(\"display.precision\", 3)"
   ]
  },
  {
   "cell_type": "code",
   "execution_count": null,
   "metadata": {},
   "outputs": [],
   "source": [
    "# Data Analysis\n",
    "# -------------\n",
    "\n",
    "t = dict(pd.read_csv(\"training-data-10-12-2023_0-10-30.csv\", header = 0, delimiter = \",\").dtypes)\n",
    "for key in t.keys():\n",
    "    t[key] = str if type(t[key]) == 'object' else int\n",
    "\n",
    "df1 = pd.read_csv(\"training-data-10-12-2023_0-10-30.csv\", header = 0, delimiter = \",\", dtype=t)\n",
    "df2 = pd.read_csv(\"training-data-10-12-2023_0-10-36.csv\", header = 0, delimiter = \",\", dtype=t)\n",
    "df3 = pd.read_csv(\"training-data-10-12-2023_0-10-40.csv\", header = 0, delimiter = \",\", dtype=t)\n",
    "df = pd.concat([df1, df2, df3])\n",
    "\n",
    "nominal_cols = df.select_dtypes(include=['object']).columns\n",
    "print(nominal_cols)\n",
    "df[nominal_cols] = df[nominal_cols].astype('string', errors='ignore')\n",
    "print(df.dtypes)\n",
    "# df = pd.read_csv(\"data-cleaned\\TRAININGSLICE1.csv\", header = 0, delimiter = \",\")\n",
    "\n",
    "# Feature stats\n",
    "rows, cols = df.shape\n",
    "print(f'Features: {cols}, Entries: {rows}')\n",
    "stats = pd.DataFrame([df.dtypes, df.nunique(), df.nunique()/rows, rows-df.count(), (rows-df.count())*100/rows], index=['dtype', '# unique', '% unique', '# NaN', '% NaN'])\n",
    "stats.T.to_csv('stats.csv', sep=',')\n",
    "display(stats)\n",
    "\n",
    "# Remove features that have a lot of missing values\n",
    "filt = []\n",
    "s = stats.to_numpy()\n",
    "for i in range(cols):\n",
    "    if s[4, i] > 20.0:\n",
    "        filt.append(stats.columns[i])\n",
    "    \n",
    "df = df.drop(filt, axis=1).dropna()\n",
    "\n",
    "rows, cols = df.shape\n",
    "print(f'Features: {cols}, Entries: {rows}')\n",
    "\n"
   ]
  },
  {
   "cell_type": "code",
   "execution_count": 1,
   "metadata": {},
   "outputs": [
    {
     "name": "stdout",
     "output_type": "stream",
     "text": [
      "(100, 3922)\n"
     ]
    }
   ],
   "source": [
    "# K-nn Testing\n",
    "# ------------\n",
    "\n",
    "import numpy as np\n",
    "import pandas as pd\n",
    "\n",
    "from sklearn.neighbors import KNeighborsClassifier, KNeighborsRegressor\n",
    "from sklearn.model_selection import train_test_split\n",
    "from sklearn.preprocessing import normalize\n",
    "from sklearn.metrics import mean_absolute_error\n",
    "from sklearn.decomposition import PCA\n",
    "\n",
    "pd.set_option(\"display.precision\", 3)\n",
    "\n",
    "df = pd.read_csv(\"TRAININGSLICEALL.csv\")\n",
    "\n",
    "\n",
    "# Data split\n",
    "ds = df.to_numpy()[:100]\n",
    "print(ds.shape)\n",
    "X = ds[:, 1:-1] # ignore 3dmark id\n",
    "# X = pd.get_dummies(X) # one-hot encode (categorical columns only)\n",
    "y = ds[:, -1]"
   ]
  },
  {
   "cell_type": "code",
   "execution_count": 5,
   "metadata": {},
   "outputs": [],
   "source": [
    "'''\n",
    "Train clf on training-test split of data X, y. Return the score and MAE.\n",
    "'''\n",
    "def train_mae(clf, X, y):\n",
    "    X_train, X_test, y_train, y_test = train_test_split(X, y, test_size=0.2)\n",
    "    clf.fit(X_train, y_train)\n",
    "    score = clf.score(X_test, y_test)\n",
    "    y_pred = clf.predict(X_test)\n",
    "    mae = mean_absolute_error(y_pred, y_test)\n",
    "    return score, mae"
   ]
  },
  {
   "cell_type": "code",
   "execution_count": 10,
   "metadata": {},
   "outputs": [
    {
     "name": "stdout",
     "output_type": "stream",
     "text": [
      "(123652, 3922)\n",
      "default: score=0.0, MAE=8.087016295337835e-06\n"
     ]
    }
   ],
   "source": [
    "# Data split\n",
    "ds = df.to_numpy()\n",
    "print(ds.shape)\n",
    "X = ds[:, :-1] # ignore 3dmark id\n",
    "y = ds[:, -1]\n",
    "\n",
    "# default k-nn\n",
    "knn = KNeighborsRegressor(n_neighbors=5)\n",
    "score, mae = train_mae(knn, X, y)\n",
    "print(f'default: score={score}, MAE={mae}')"
   ]
  },
  {
   "cell_type": "code",
   "execution_count": null,
   "metadata": {},
   "outputs": [],
   "source": [
    "ds_norm = normalize(ds)\n",
    "X = ds_norm[:, :-1]\n",
    "y = ds_norm[:, -1]\n",
    "\n",
    "knn2 = KNeighborsRegressor(n_neighbors=5)\n",
    "score, mae = train_mae(knn2, X, y)\n",
    "print(f'default: score={score}, MAE={mae}')"
   ]
  }
 ],
 "metadata": {
  "kernelspec": {
   "display_name": "Python 3",
   "language": "python",
   "name": "python3"
  },
  "language_info": {
   "codemirror_mode": {
    "name": "ipython",
    "version": 3
   },
   "file_extension": ".py",
   "mimetype": "text/x-python",
   "name": "python",
   "nbconvert_exporter": "python",
   "pygments_lexer": "ipython3",
   "version": "3.11.4"
  }
 },
 "nbformat": 4,
 "nbformat_minor": 2
}
